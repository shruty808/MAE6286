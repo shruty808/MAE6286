{
  "nbformat": 4,
  "nbformat_minor": 0,
  "metadata": {
    "colab": {
      "name": "sac.ipynb",
      "provenance": [],
      "collapsed_sections": [],
      "authorship_tag": "ABX9TyO+xJsH0iBfA6dbfo+ZX/Yk",
      "include_colab_link": true
    },
    "kernelspec": {
      "name": "python3",
      "display_name": "Python 3"
    },
    "language_info": {
      "name": "python"
    }
  },
  "cells": [
    {
      "cell_type": "markdown",
      "metadata": {
        "id": "view-in-github",
        "colab_type": "text"
      },
      "source": [
        "<a href=\"https://colab.research.google.com/github/shruty808/MAE6286/blob/master/sac.ipynb\" target=\"_parent\"><img src=\"https://colab.research.google.com/assets/colab-badge.svg\" alt=\"Open In Colab\"/></a>"
      ]
    },
    {
      "cell_type": "code",
      "source": [
        "!pip install panda-gym"
      ],
      "metadata": {
        "colab": {
          "base_uri": "https://localhost:8080/"
        },
        "id": "eX0xn8sH3KMh",
        "outputId": "c457d223-07f1-42f4-f8b4-67efe969475f"
      },
      "execution_count": 1,
      "outputs": [
        {
          "output_type": "stream",
          "name": "stdout",
          "text": [
            "Collecting panda-gym\n",
            "  Downloading panda_gym-2.0.0-py3-none-any.whl (26 kB)\n",
            "Collecting pybullet\n",
            "  Downloading pybullet-3.2.1-cp37-cp37m-manylinux_2_5_x86_64.manylinux1_x86_64.whl (90.8 MB)\n",
            "\u001b[K     |████████████████████████████████| 90.8 MB 264 bytes/s \n",
            "\u001b[?25hRequirement already satisfied: numpy in /usr/local/lib/python3.7/dist-packages (from panda-gym) (1.19.5)\n",
            "Requirement already satisfied: gym in /usr/local/lib/python3.7/dist-packages (from panda-gym) (0.17.3)\n",
            "Requirement already satisfied: scipy in /usr/local/lib/python3.7/dist-packages (from panda-gym) (1.4.1)\n",
            "Requirement already satisfied: pyglet<=1.5.0,>=1.4.0 in /usr/local/lib/python3.7/dist-packages (from gym->panda-gym) (1.5.0)\n",
            "Requirement already satisfied: cloudpickle<1.7.0,>=1.2.0 in /usr/local/lib/python3.7/dist-packages (from gym->panda-gym) (1.3.0)\n",
            "Requirement already satisfied: future in /usr/local/lib/python3.7/dist-packages (from pyglet<=1.5.0,>=1.4.0->gym->panda-gym) (0.16.0)\n",
            "Installing collected packages: pybullet, panda-gym\n",
            "Successfully installed panda-gym-2.0.0 pybullet-3.2.1\n"
          ]
        }
      ]
    },
    {
      "cell_type": "code",
      "source": [
        "!pip install stable-baselines3"
      ],
      "metadata": {
        "colab": {
          "base_uri": "https://localhost:8080/"
        },
        "id": "ag-BwSQ13sr-",
        "outputId": "1ad4875f-afb9-4b76-90b6-6189d94a39f7"
      },
      "execution_count": 2,
      "outputs": [
        {
          "output_type": "stream",
          "name": "stdout",
          "text": [
            "Collecting stable-baselines3\n",
            "  Downloading stable_baselines3-1.3.0-py3-none-any.whl (174 kB)\n",
            "\u001b[?25l\r\u001b[K     |█▉                              | 10 kB 23.0 MB/s eta 0:00:01\r\u001b[K     |███▊                            | 20 kB 28.9 MB/s eta 0:00:01\r\u001b[K     |█████▋                          | 30 kB 32.2 MB/s eta 0:00:01\r\u001b[K     |███████▌                        | 40 kB 34.0 MB/s eta 0:00:01\r\u001b[K     |█████████▍                      | 51 kB 36.8 MB/s eta 0:00:01\r\u001b[K     |███████████▎                    | 61 kB 39.7 MB/s eta 0:00:01\r\u001b[K     |█████████████▏                  | 71 kB 39.0 MB/s eta 0:00:01\r\u001b[K     |███████████████                 | 81 kB 36.0 MB/s eta 0:00:01\r\u001b[K     |████████████████▉               | 92 kB 36.8 MB/s eta 0:00:01\r\u001b[K     |██████████████████▊             | 102 kB 36.4 MB/s eta 0:00:01\r\u001b[K     |████████████████████▋           | 112 kB 36.4 MB/s eta 0:00:01\r\u001b[K     |██████████████████████▌         | 122 kB 36.4 MB/s eta 0:00:01\r\u001b[K     |████████████████████████▍       | 133 kB 36.4 MB/s eta 0:00:01\r\u001b[K     |██████████████████████████▎     | 143 kB 36.4 MB/s eta 0:00:01\r\u001b[K     |████████████████████████████▏   | 153 kB 36.4 MB/s eta 0:00:01\r\u001b[K     |██████████████████████████████  | 163 kB 36.4 MB/s eta 0:00:01\r\u001b[K     |███████████████████████████████▉| 174 kB 36.4 MB/s eta 0:00:01\r\u001b[K     |████████████████████████████████| 174 kB 36.4 MB/s \n",
            "\u001b[?25hRequirement already satisfied: gym<0.20,>=0.17 in /usr/local/lib/python3.7/dist-packages (from stable-baselines3) (0.17.3)\n",
            "Requirement already satisfied: torch>=1.8.1 in /usr/local/lib/python3.7/dist-packages (from stable-baselines3) (1.10.0+cu111)\n",
            "Requirement already satisfied: matplotlib in /usr/local/lib/python3.7/dist-packages (from stable-baselines3) (3.2.2)\n",
            "Requirement already satisfied: cloudpickle in /usr/local/lib/python3.7/dist-packages (from stable-baselines3) (1.3.0)\n",
            "Requirement already satisfied: pandas in /usr/local/lib/python3.7/dist-packages (from stable-baselines3) (1.1.5)\n",
            "Requirement already satisfied: numpy in /usr/local/lib/python3.7/dist-packages (from stable-baselines3) (1.19.5)\n",
            "Requirement already satisfied: pyglet<=1.5.0,>=1.4.0 in /usr/local/lib/python3.7/dist-packages (from gym<0.20,>=0.17->stable-baselines3) (1.5.0)\n",
            "Requirement already satisfied: scipy in /usr/local/lib/python3.7/dist-packages (from gym<0.20,>=0.17->stable-baselines3) (1.4.1)\n",
            "Requirement already satisfied: future in /usr/local/lib/python3.7/dist-packages (from pyglet<=1.5.0,>=1.4.0->gym<0.20,>=0.17->stable-baselines3) (0.16.0)\n",
            "Requirement already satisfied: typing-extensions in /usr/local/lib/python3.7/dist-packages (from torch>=1.8.1->stable-baselines3) (3.10.0.2)\n",
            "Requirement already satisfied: cycler>=0.10 in /usr/local/lib/python3.7/dist-packages (from matplotlib->stable-baselines3) (0.11.0)\n",
            "Requirement already satisfied: kiwisolver>=1.0.1 in /usr/local/lib/python3.7/dist-packages (from matplotlib->stable-baselines3) (1.3.2)\n",
            "Requirement already satisfied: pyparsing!=2.0.4,!=2.1.2,!=2.1.6,>=2.0.1 in /usr/local/lib/python3.7/dist-packages (from matplotlib->stable-baselines3) (3.0.6)\n",
            "Requirement already satisfied: python-dateutil>=2.1 in /usr/local/lib/python3.7/dist-packages (from matplotlib->stable-baselines3) (2.8.2)\n",
            "Requirement already satisfied: six>=1.5 in /usr/local/lib/python3.7/dist-packages (from python-dateutil>=2.1->matplotlib->stable-baselines3) (1.15.0)\n",
            "Requirement already satisfied: pytz>=2017.2 in /usr/local/lib/python3.7/dist-packages (from pandas->stable-baselines3) (2018.9)\n",
            "Installing collected packages: stable-baselines3\n",
            "Successfully installed stable-baselines3-1.3.0\n"
          ]
        }
      ]
    },
    {
      "cell_type": "code",
      "execution_count": 3,
      "metadata": {
        "id": "sdjDVQFQz4Ef"
      },
      "outputs": [],
      "source": [
        "import gym\n",
        "import numpy as np\n",
        "import panda_gym\n",
        "\n",
        "\n",
        "\n"
      ]
    },
    {
      "cell_type": "code",
      "source": [
        ""
      ],
      "metadata": {
        "id": "on-SlPyX4yec"
      },
      "execution_count": 3,
      "outputs": []
    },
    {
      "cell_type": "code",
      "source": [
        "%tensorflow_version 1.x"
      ],
      "metadata": {
        "colab": {
          "base_uri": "https://localhost:8080/"
        },
        "id": "Btg9umPR376F",
        "outputId": "d55edf8f-71de-46a7-81a1-53366a01398a"
      },
      "execution_count": 4,
      "outputs": [
        {
          "output_type": "stream",
          "name": "stdout",
          "text": [
            "TensorFlow 1.x selected.\n"
          ]
        }
      ]
    },
    {
      "cell_type": "code",
      "source": [
        ""
      ],
      "metadata": {
        "id": "z4FIGtau3LVp"
      },
      "execution_count": 4,
      "outputs": []
    },
    {
      "cell_type": "code",
      "source": [
        "from stable_baselines3 import SAC\n",
        "from stable_baselines3.sac.policies import MultiInputPolicy"
      ],
      "metadata": {
        "id": "96gdVq517VNz"
      },
      "execution_count": 5,
      "outputs": []
    },
    {
      "cell_type": "code",
      "source": [
        "env = gym.make('PandaReach-v2')\n",
        "model = SAC(MultiInputPolicy, env, verbose=1)\n",
        "model.learn(total_timesteps=50000, log_interval=100)\n",
        "env = model.get_env()"
      ],
      "metadata": {
        "colab": {
          "base_uri": "https://localhost:8080/"
        },
        "id": "3cr7Q8E-04ru",
        "outputId": "17a94452-ad75-4985-d56d-d112cc525b7d"
      },
      "execution_count": 6,
      "outputs": [
        {
          "output_type": "stream",
          "name": "stdout",
          "text": [
            "Using cpu device\n",
            "Wrapping the env with a `Monitor` wrapper\n",
            "Wrapping the env in a DummyVecEnv.\n",
            "---------------------------------\n",
            "| rollout/           |          |\n",
            "|    ep_len_mean     | 50       |\n",
            "|    ep_rew_mean     | -49.3    |\n",
            "|    success_rate    | 0        |\n",
            "| time/              |          |\n",
            "|    episodes        | 100      |\n",
            "|    fps             | 36       |\n",
            "|    time_elapsed    | 135      |\n",
            "|    total_timesteps | 5000     |\n",
            "| train/             |          |\n",
            "|    actor_loss      | 0.0272   |\n",
            "|    critic_loss     | 0.0151   |\n",
            "|    ent_coef        | 0.23     |\n",
            "|    ent_coef_loss   | -7.39    |\n",
            "|    learning_rate   | 0.0003   |\n",
            "|    n_updates       | 4899     |\n",
            "---------------------------------\n",
            "---------------------------------\n",
            "| rollout/           |          |\n",
            "|    ep_len_mean     | 50       |\n",
            "|    ep_rew_mean     | -48.1    |\n",
            "|    success_rate    | 0.04     |\n",
            "| time/              |          |\n",
            "|    episodes        | 200      |\n",
            "|    fps             | 37       |\n",
            "|    time_elapsed    | 269      |\n",
            "|    total_timesteps | 10000    |\n",
            "| train/             |          |\n",
            "|    actor_loss      | 17.4     |\n",
            "|    critic_loss     | 0.0192   |\n",
            "|    ent_coef        | 0.0521   |\n",
            "|    ent_coef_loss   | -13.6    |\n",
            "|    learning_rate   | 0.0003   |\n",
            "|    n_updates       | 9899     |\n",
            "---------------------------------\n",
            "---------------------------------\n",
            "| rollout/           |          |\n",
            "|    ep_len_mean     | 50       |\n",
            "|    ep_rew_mean     | -14.7    |\n",
            "|    success_rate    | 0.76     |\n",
            "| time/              |          |\n",
            "|    episodes        | 300      |\n",
            "|    fps             | 37       |\n",
            "|    time_elapsed    | 403      |\n",
            "|    total_timesteps | 15000    |\n",
            "| train/             |          |\n",
            "|    actor_loss      | 22.7     |\n",
            "|    critic_loss     | 0.104    |\n",
            "|    ent_coef        | 0.0281   |\n",
            "|    ent_coef_loss   | 0.116    |\n",
            "|    learning_rate   | 0.0003   |\n",
            "|    n_updates       | 14899    |\n",
            "---------------------------------\n",
            "---------------------------------\n",
            "| rollout/           |          |\n",
            "|    ep_len_mean     | 50       |\n",
            "|    ep_rew_mean     | -2.03    |\n",
            "|    success_rate    | 1        |\n",
            "| time/              |          |\n",
            "|    episodes        | 400      |\n",
            "|    fps             | 37       |\n",
            "|    time_elapsed    | 536      |\n",
            "|    total_timesteps | 20000    |\n",
            "| train/             |          |\n",
            "|    actor_loss      | 17.1     |\n",
            "|    critic_loss     | 0.0618   |\n",
            "|    ent_coef        | 0.0233   |\n",
            "|    ent_coef_loss   | -0.39    |\n",
            "|    learning_rate   | 0.0003   |\n",
            "|    n_updates       | 19899    |\n",
            "---------------------------------\n",
            "---------------------------------\n",
            "| rollout/           |          |\n",
            "|    ep_len_mean     | 50       |\n",
            "|    ep_rew_mean     | -2.02    |\n",
            "|    success_rate    | 1        |\n",
            "| time/              |          |\n",
            "|    episodes        | 500      |\n",
            "|    fps             | 37       |\n",
            "|    time_elapsed    | 669      |\n",
            "|    total_timesteps | 25000    |\n",
            "| train/             |          |\n",
            "|    actor_loss      | 14.9     |\n",
            "|    critic_loss     | 0.0587   |\n",
            "|    ent_coef        | 0.0217   |\n",
            "|    ent_coef_loss   | 0.398    |\n",
            "|    learning_rate   | 0.0003   |\n",
            "|    n_updates       | 24899    |\n",
            "---------------------------------\n",
            "---------------------------------\n",
            "| rollout/           |          |\n",
            "|    ep_len_mean     | 50       |\n",
            "|    ep_rew_mean     | -2.14    |\n",
            "|    success_rate    | 1        |\n",
            "| time/              |          |\n",
            "|    episodes        | 600      |\n",
            "|    fps             | 37       |\n",
            "|    time_elapsed    | 802      |\n",
            "|    total_timesteps | 30000    |\n",
            "| train/             |          |\n",
            "|    actor_loss      | 12.4     |\n",
            "|    critic_loss     | 0.0389   |\n",
            "|    ent_coef        | 0.0196   |\n",
            "|    ent_coef_loss   | 0.264    |\n",
            "|    learning_rate   | 0.0003   |\n",
            "|    n_updates       | 29899    |\n",
            "---------------------------------\n",
            "---------------------------------\n",
            "| rollout/           |          |\n",
            "|    ep_len_mean     | 50       |\n",
            "|    ep_rew_mean     | -2.22    |\n",
            "|    success_rate    | 1        |\n",
            "| time/              |          |\n",
            "|    episodes        | 700      |\n",
            "|    fps             | 37       |\n",
            "|    time_elapsed    | 936      |\n",
            "|    total_timesteps | 35000    |\n",
            "| train/             |          |\n",
            "|    actor_loss      | 11       |\n",
            "|    critic_loss     | 0.0331   |\n",
            "|    ent_coef        | 0.0184   |\n",
            "|    ent_coef_loss   | 0.0872   |\n",
            "|    learning_rate   | 0.0003   |\n",
            "|    n_updates       | 34899    |\n",
            "---------------------------------\n",
            "---------------------------------\n",
            "| rollout/           |          |\n",
            "|    ep_len_mean     | 50       |\n",
            "|    ep_rew_mean     | -2.33    |\n",
            "|    success_rate    | 1        |\n",
            "| time/              |          |\n",
            "|    episodes        | 800      |\n",
            "|    fps             | 37       |\n",
            "|    time_elapsed    | 1069     |\n",
            "|    total_timesteps | 40000    |\n",
            "| train/             |          |\n",
            "|    actor_loss      | 9.19     |\n",
            "|    critic_loss     | 0.0236   |\n",
            "|    ent_coef        | 0.0162   |\n",
            "|    ent_coef_loss   | 0.701    |\n",
            "|    learning_rate   | 0.0003   |\n",
            "|    n_updates       | 39899    |\n",
            "---------------------------------\n",
            "---------------------------------\n",
            "| rollout/           |          |\n",
            "|    ep_len_mean     | 50       |\n",
            "|    ep_rew_mean     | -2.17    |\n",
            "|    success_rate    | 1        |\n",
            "| time/              |          |\n",
            "|    episodes        | 900      |\n",
            "|    fps             | 37       |\n",
            "|    time_elapsed    | 1203     |\n",
            "|    total_timesteps | 45000    |\n",
            "| train/             |          |\n",
            "|    actor_loss      | 8.34     |\n",
            "|    critic_loss     | 0.0234   |\n",
            "|    ent_coef        | 0.0143   |\n",
            "|    ent_coef_loss   | -0.266   |\n",
            "|    learning_rate   | 0.0003   |\n",
            "|    n_updates       | 44899    |\n",
            "---------------------------------\n",
            "---------------------------------\n",
            "| rollout/           |          |\n",
            "|    ep_len_mean     | 50       |\n",
            "|    ep_rew_mean     | -1.94    |\n",
            "|    success_rate    | 1        |\n",
            "| time/              |          |\n",
            "|    episodes        | 1000     |\n",
            "|    fps             | 37       |\n",
            "|    time_elapsed    | 1338     |\n",
            "|    total_timesteps | 50000    |\n",
            "| train/             |          |\n",
            "|    actor_loss      | 7.62     |\n",
            "|    critic_loss     | 0.0185   |\n",
            "|    ent_coef        | 0.013    |\n",
            "|    ent_coef_loss   | 1        |\n",
            "|    learning_rate   | 0.0003   |\n",
            "|    n_updates       | 49899    |\n",
            "---------------------------------\n"
          ]
        }
      ]
    },
    {
      "cell_type": "code",
      "source": [
        "model.save(\"sac-reach\")"
      ],
      "metadata": {
        "id": "Zn9bSR9J_Kk-"
      },
      "execution_count": 7,
      "outputs": []
    },
    {
      "cell_type": "code",
      "source": [
        "env = gym.make('PandaReach-v2')\n",
        "rewards=[]\n",
        "score=0\n",
        "obs = env.reset()\n"
      ],
      "metadata": {
        "id": "aVAqu6im-Jqz"
      },
      "execution_count": 8,
      "outputs": []
    },
    {
      "cell_type": "code",
      "source": [
        "for i in range(50000):\n",
        "  action,_states=model.predict(obs)\n",
        "  obs,reward,done,info=env.step(action)\n",
        "  score+=reward\n",
        "  rewards.append(reward)\n",
        "  with open(\"sac-reach.txt\",\"a\") as f:\n",
        "    print(score,file=f)\n",
        "env.close()"
      ],
      "metadata": {
        "id": "GQ1TNuX8_Odm"
      },
      "execution_count": 11,
      "outputs": []
    },
    {
      "cell_type": "code",
      "source": [
        ""
      ],
      "metadata": {
        "id": "EkYwz9RP_OlW"
      },
      "execution_count": null,
      "outputs": []
    }
  ]
}