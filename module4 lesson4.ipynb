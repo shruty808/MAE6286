{
 "cells": [
  {
   "cell_type": "code",
   "execution_count": 1,
   "metadata": {},
   "outputs": [],
   "source": [
    "import numpy\n",
    "from matplotlib import pyplot\n",
    "%matplotlib inline"
   ]
  },
  {
   "cell_type": "code",
   "execution_count": 2,
   "metadata": {},
   "outputs": [],
   "source": [
    "def lhs(M,N,sigma):\n",
    "    A=numpy.zeros((nx*ny,nx*ny))\n",
    "    for j in range(N):\n",
    "        for i in range(M):\n",
    "            I=j*M+i #row index\n",
    "            south,west,east,north=I-M,I-1,I+1,I+M\n",
    "            if((i==0)&(j==0)): #bottom left corner\n",
    "                A[I,I]=1/sigma+4\n",
    "                A[I,east]=-1\n",
    "                A[I,north]=-1\n",
    "            elif((i==0)&(j==N-1)): # top left corner\n",
    "                A[I,I]=1/sigma+3\n",
    "                A[I,east]=-1\n",
    "                A[I,north]=-1\n",
    "            elif((i==M-1)&(j==0)):#bottom right\n",
    "                A[I,I]=1/sigma+3\n",
    "                A[I,south]=-1\n",
    "                A[I,west]=-1\n",
    "            elif((i==M-1)&(j==N-1)):#top right corner\n",
    "               A[I,I]=1/sigma+2\n",
    "               A[I,south]=-1\n",
    "               A[I,west]=-1\n",
    "            # setup cofficients on boundaries except corners:\n",
    "            elif(j==0): #bottom boundary\n",
    "                 A[I,I]=1/sigma+4\n",
    "                 A[I,west]=-1\n",
    "                 A[I,east]=-1\n",
    "                 A[I,north]=-1\n",
    "            elif(i==0): #left boundary\n",
    "                 A[I,I]=1/sigma+4\n",
    "                 A[I,east]=-1\n",
    "                 A[I,north]=-1\n",
    "                 A[I,south]=-1\n",
    "            elif(i==M-1):#right boundary\n",
    "                 A[I,I]=1/sigma+3\n",
    "                 A[I,west]=-1\n",
    "                 A[I,north]=-1\n",
    "                 A[I,south]=-1\n",
    "            elif(j==N-1):\n",
    "                 A[I,I]=1/sigma+3\n",
    "                 A[I,south]=-1\n",
    "                 A[I,west]=-1\n",
    "                 A[I,east]=-1\n",
    "            else:\n",
    "                 A[I,I]=1/sigma+4\n",
    "                 A[I,east]=-1\n",
    "                 A[I,west]=-1\n",
    "                 A[I,north]=-1\n",
    "                 A[I,south]=-1\n",
    "    return A\n",
    "                 \n",
    "               "
   ]
  },
  {
   "cell_type": "code",
   "execution_count": 3,
   "metadata": {},
   "outputs": [],
   "source": [
    "def rhs(T,M,N,sigma,Tb):\n",
    "    b=1/sigma*T\n",
    "    for j in range(N):\n",
    "        for i in range(M):\n",
    "            I=j*M+i\n",
    "            if(i==0):\n",
    "                b[I]+=Tb\n",
    "            if(j==0):\n",
    "                b[I]+=Tb \n",
    "    return b\n",
    "    "
   ]
  },
  {
   "cell_type": "code",
   "execution_count": 4,
   "metadata": {},
   "outputs": [],
   "source": [
    "def map1dto2d(T1d,ny,nx,Tb):\n",
    "    T=numpy.zeros(ny,nx)\n",
    "    T[1:-1,1:-1]=T1d.reshape((ny-2,nx-2))\n",
    "    T[:,0]=Tb\n",
    "    T[0,:]=Tb\n",
    "    T[:,-1]=T[:,-2]\n",
    "    T[-1,:]=T[-2,:]\n",
    "    return T\n",
    "        "
   ]
  },
  {
   "cell_type": "code",
   "execution_count": 5,
   "metadata": {},
   "outputs": [],
   "source": [
    "def btcs(T0,nt,dt,dx,alpha,Tb):\n",
    "    ny,nx=T0.shape\n",
    "    N,M=ny-2,nx-2\n",
    "    sigma=alpha*dt/dx**2\n",
    "    A=lhs(M,N,sigma)\n",
    "    T=T0[1:-1,1:-1].flatten()\n",
    "    I,J=int(M/2),int(N/2)\n",
    "    for n in range(nt):\n",
    "        b=rhs(T0,M,N,sigma,Tb)\n",
    "        T=linalg.solve(A,b)\n",
    "        if(T>=70):\n",
    "            break\n",
    "    print('[time step {}] Center at T={:.2f} at t={:.2f} s'\n",
    "          .format(n + 1, T[J * M + I], (n + 1) * dt))\n",
    "    return map1dto2d(T, nx, ny, Tb)"
   ]
  },
  {
   "cell_type": "code",
   "execution_count": 6,
   "metadata": {},
   "outputs": [],
   "source": [
    "Lx = 0.01  # length of the plate in the x direction\n",
    "Ly = 0.01  # length of the plate in the y direction\n",
    "nx = 21  # number of points in the x direction\n",
    "ny = 21  # number of points in the y direction\n",
    "dx = Lx / (nx - 1)  # grid spacing in the x direction\n",
    "dy = Ly / (ny - 1)  # grid spacing in the y direction\n",
    "alpha = 1e-4  # thermal diffusivity\n",
    "\n",
    "# Define the locations along a gridline.\n",
    "x = numpy.linspace(0.0, Lx, num=nx)\n",
    "y = numpy.linspace(0.0, Ly, num=ny)\n",
    "\n",
    "# Compute the initial temperature distribution.\n",
    "Tb = 100.0  # temperature at the left and bottom boundaries\n",
    "T0 = 20.0 * numpy.ones((ny, nx))\n",
    "T0[:, 0] = Tb\n",
    "T0[0, :] = Tb"
   ]
  },
  {
   "cell_type": "code",
   "execution_count": 7,
   "metadata": {},
   "outputs": [
    {
     "ename": "IndexError",
     "evalue": "index 38 is out of bounds for axis 0 with size 21",
     "output_type": "error",
     "traceback": [
      "\u001b[1;31m---------------------------------------------------------------------------\u001b[0m",
      "\u001b[1;31mIndexError\u001b[0m                                Traceback (most recent call last)",
      "\u001b[1;32m<ipython-input-7-fe5f14756d95>\u001b[0m in \u001b[0;36m<module>\u001b[1;34m\u001b[0m\n\u001b[0;32m      4\u001b[0m \u001b[1;33m\u001b[0m\u001b[0m\n\u001b[0;32m      5\u001b[0m \u001b[1;31m# Compute the temperature along the rod.\u001b[0m\u001b[1;33m\u001b[0m\u001b[1;33m\u001b[0m\u001b[1;33m\u001b[0m\u001b[0m\n\u001b[1;32m----> 6\u001b[1;33m \u001b[0mT\u001b[0m \u001b[1;33m=\u001b[0m \u001b[0mbtcs\u001b[0m\u001b[1;33m(\u001b[0m\u001b[0mT0\u001b[0m\u001b[1;33m,\u001b[0m \u001b[0mnt\u001b[0m\u001b[1;33m,\u001b[0m \u001b[0mdt\u001b[0m\u001b[1;33m,\u001b[0m \u001b[0mdx\u001b[0m\u001b[1;33m,\u001b[0m \u001b[0malpha\u001b[0m\u001b[1;33m,\u001b[0m \u001b[0mTb\u001b[0m\u001b[1;33m)\u001b[0m\u001b[1;33m\u001b[0m\u001b[1;33m\u001b[0m\u001b[0m\n\u001b[0m",
      "\u001b[1;32m<ipython-input-5-2f1c78cba68a>\u001b[0m in \u001b[0;36mbtcs\u001b[1;34m(T0, nt, dt, dx, alpha, Tb)\u001b[0m\n\u001b[0;32m      7\u001b[0m     \u001b[0mI\u001b[0m\u001b[1;33m,\u001b[0m\u001b[0mJ\u001b[0m\u001b[1;33m=\u001b[0m\u001b[0mint\u001b[0m\u001b[1;33m(\u001b[0m\u001b[0mM\u001b[0m\u001b[1;33m/\u001b[0m\u001b[1;36m2\u001b[0m\u001b[1;33m)\u001b[0m\u001b[1;33m,\u001b[0m\u001b[0mint\u001b[0m\u001b[1;33m(\u001b[0m\u001b[0mN\u001b[0m\u001b[1;33m/\u001b[0m\u001b[1;36m2\u001b[0m\u001b[1;33m)\u001b[0m\u001b[1;33m\u001b[0m\u001b[1;33m\u001b[0m\u001b[0m\n\u001b[0;32m      8\u001b[0m     \u001b[1;32mfor\u001b[0m \u001b[0mn\u001b[0m \u001b[1;32min\u001b[0m \u001b[0mrange\u001b[0m\u001b[1;33m(\u001b[0m\u001b[0mnt\u001b[0m\u001b[1;33m)\u001b[0m\u001b[1;33m:\u001b[0m\u001b[1;33m\u001b[0m\u001b[1;33m\u001b[0m\u001b[0m\n\u001b[1;32m----> 9\u001b[1;33m         \u001b[0mb\u001b[0m\u001b[1;33m=\u001b[0m\u001b[0mrhs\u001b[0m\u001b[1;33m(\u001b[0m\u001b[0mT0\u001b[0m\u001b[1;33m,\u001b[0m\u001b[0mM\u001b[0m\u001b[1;33m,\u001b[0m\u001b[0mN\u001b[0m\u001b[1;33m,\u001b[0m\u001b[0msigma\u001b[0m\u001b[1;33m,\u001b[0m\u001b[0mTb\u001b[0m\u001b[1;33m)\u001b[0m\u001b[1;33m\u001b[0m\u001b[1;33m\u001b[0m\u001b[0m\n\u001b[0m\u001b[0;32m     10\u001b[0m         \u001b[0mT\u001b[0m\u001b[1;33m=\u001b[0m\u001b[0mlinalg\u001b[0m\u001b[1;33m.\u001b[0m\u001b[0msolve\u001b[0m\u001b[1;33m(\u001b[0m\u001b[0mA\u001b[0m\u001b[1;33m,\u001b[0m\u001b[0mb\u001b[0m\u001b[1;33m)\u001b[0m\u001b[1;33m\u001b[0m\u001b[1;33m\u001b[0m\u001b[0m\n\u001b[0;32m     11\u001b[0m         \u001b[1;32mif\u001b[0m\u001b[1;33m(\u001b[0m\u001b[0mT\u001b[0m\u001b[1;33m>=\u001b[0m\u001b[1;36m70\u001b[0m\u001b[1;33m)\u001b[0m\u001b[1;33m:\u001b[0m\u001b[1;33m\u001b[0m\u001b[1;33m\u001b[0m\u001b[0m\n",
      "\u001b[1;32m<ipython-input-3-ef93412c7b6e>\u001b[0m in \u001b[0;36mrhs\u001b[1;34m(T, M, N, sigma, Tb)\u001b[0m\n\u001b[0;32m      5\u001b[0m             \u001b[0mI\u001b[0m\u001b[1;33m=\u001b[0m\u001b[0mj\u001b[0m\u001b[1;33m*\u001b[0m\u001b[0mM\u001b[0m\u001b[1;33m+\u001b[0m\u001b[0mi\u001b[0m\u001b[1;33m\u001b[0m\u001b[1;33m\u001b[0m\u001b[0m\n\u001b[0;32m      6\u001b[0m             \u001b[1;32mif\u001b[0m\u001b[1;33m(\u001b[0m\u001b[0mi\u001b[0m\u001b[1;33m==\u001b[0m\u001b[1;36m0\u001b[0m\u001b[1;33m)\u001b[0m\u001b[1;33m:\u001b[0m\u001b[1;33m\u001b[0m\u001b[1;33m\u001b[0m\u001b[0m\n\u001b[1;32m----> 7\u001b[1;33m                 \u001b[0mb\u001b[0m\u001b[1;33m[\u001b[0m\u001b[0mI\u001b[0m\u001b[1;33m]\u001b[0m\u001b[1;33m+=\u001b[0m\u001b[0mTb\u001b[0m\u001b[1;33m\u001b[0m\u001b[1;33m\u001b[0m\u001b[0m\n\u001b[0m\u001b[0;32m      8\u001b[0m             \u001b[1;32mif\u001b[0m\u001b[1;33m(\u001b[0m\u001b[0mj\u001b[0m\u001b[1;33m==\u001b[0m\u001b[1;36m0\u001b[0m\u001b[1;33m)\u001b[0m\u001b[1;33m:\u001b[0m\u001b[1;33m\u001b[0m\u001b[1;33m\u001b[0m\u001b[0m\n\u001b[0;32m      9\u001b[0m                 \u001b[0mb\u001b[0m\u001b[1;33m[\u001b[0m\u001b[0mI\u001b[0m\u001b[1;33m]\u001b[0m\u001b[1;33m+=\u001b[0m\u001b[0mTb\u001b[0m\u001b[1;33m\u001b[0m\u001b[1;33m\u001b[0m\u001b[0m\n",
      "\u001b[1;31mIndexError\u001b[0m: index 38 is out of bounds for axis 0 with size 21"
     ]
    }
   ],
   "source": [
    "sigma = 0.25\n",
    "dt = sigma * min(dx, dy)**2 / alpha  # time-step size\n",
    "nt = 300  # number of time steps to compute\n",
    "\n",
    "# Compute the temperature along the rod.\n",
    "T = btcs(T0, nt, dt, dx, alpha, Tb)"
   ]
  },
  {
   "cell_type": "code",
   "execution_count": null,
   "metadata": {},
   "outputs": [],
   "source": []
  }
 ],
 "metadata": {
  "kernelspec": {
   "display_name": "Python 3",
   "language": "python",
   "name": "python3"
  },
  "language_info": {
   "codemirror_mode": {
    "name": "ipython",
    "version": 3
   },
   "file_extension": ".py",
   "mimetype": "text/x-python",
   "name": "python",
   "nbconvert_exporter": "python",
   "pygments_lexer": "ipython3",
   "version": "3.7.3"
  }
 },
 "nbformat": 4,
 "nbformat_minor": 2
}
