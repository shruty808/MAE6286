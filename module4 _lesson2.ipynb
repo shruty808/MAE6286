{
 "cells": [
  {
   "cell_type": "code",
   "execution_count": 1,
   "metadata": {},
   "outputs": [],
   "source": [
    "import numpy\n",
    "from matplotlib import pyplot\n",
    "%matplotlib inline"
   ]
  },
  {
   "cell_type": "code",
   "execution_count": 2,
   "metadata": {},
   "outputs": [],
   "source": [
    "L=1\n",
    "nx=51\n",
    "dx=L/(nx-1)\n",
    "alpha=1.22e-3\n",
    "q=0#temperaature gradient on right side\n",
    "x=numpy.linspace(0,L,num=nx)\n",
    "T0=numpy.zeros(nx)\n",
    "T0[0]=100\n"
   ]
  },
  {
   "cell_type": "code",
   "execution_count": 3,
   "metadata": {},
   "outputs": [],
   "source": [
    "from scipy import linalg"
   ]
  },
  {
   "cell_type": "code",
   "execution_count": 4,
   "metadata": {},
   "outputs": [],
   "source": [
    "def lhs(N,sigma):\n",
    "    D=numpy.diag((2+1/sigma)*numpy.ones(N))\n",
    "    D[-1,-1]=1+1/sigma\n",
    "    U=numpy.diag(-1*numpy.ones(N-1),k=1)\n",
    "    L=numpy.diag(-1*numpy.ones(N-1),k=-1)\n",
    "    A=D+U+L\n",
    "    return A"
   ]
  },
  {
   "cell_type": "code",
   "execution_count": 5,
   "metadata": {},
   "outputs": [],
   "source": [
    "def rhs(T,sigma,qdx):\n",
    "    b=T[1:-1]/sigma\n",
    "    b[0]+=T[0]\n",
    "    b[-1]+=qdx\n",
    "    return b"
   ]
  },
  {
   "cell_type": "code",
   "execution_count": 6,
   "metadata": {},
   "outputs": [],
   "source": [
    "def btcs_implicit(T0,sigma,alpha,nt,dt,dx,q):\n",
    "    sigma=alpha*dt/dx**2\n",
    "    A=lhs(len(T0)-2,sigma)\n",
    "    T=T0.copy()\n",
    "    for n in range(nt):\n",
    "        b=rhs(T,sigma,q*dx)\n",
    "        T[1:-1]=numpy.linalg.solve(A,b)\n",
    "        T[-1]=T[-2]+q*dx\n",
    "    return T\n",
    "        "
   ]
  },
  {
   "cell_type": "code",
   "execution_count": 7,
   "metadata": {},
   "outputs": [],
   "source": [
    "sigma=1\n",
    "dt=sigma*dx**2/alpha\n",
    "nt=1000\n",
    "T=btcs_implicit(T0,sigma,alpha,nt,dt,dx,q)\n"
   ]
  },
  {
   "cell_type": "code",
   "execution_count": 8,
   "metadata": {},
   "outputs": [
    {
     "data": {
      "image/png": "[encoded data removed]",
      "text/plain": [
       "<Figure size 432x288 with 1 Axes>"
      ]
     },
     "metadata": {
      "needs_background": "light"
     },
     "output_type": "display_data"
    }
   ],
   "source": [
    "pyplot.figure(figsize=(6.0, 4.0))\n",
    "pyplot.xlabel('Distance [m]')\n",
    "pyplot.ylabel('Temperature [C]')\n",
    "pyplot.grid()\n",
    "pyplot.plot(x, T, color='C0', linestyle='-', linewidth=2)\n",
    "pyplot.xlim(0.0, L)\n",
    "pyplot.ylim(0.0, 100.0);\n"
   ]
  },
  {
   "cell_type": "code",
   "execution_count": null,
   "metadata": {},
   "outputs": [],
   "source": []
  }
 ],
 "metadata": {
  "kernelspec": {
   "display_name": "Python 3",
   "language": "python",
   "name": "python3"
  },
  "language_info": {
   "codemirror_mode": {
    "name": "ipython",
    "version": 3
   },
   "file_extension": ".py",
   "mimetype": "text/x-python",
   "name": "python",
   "nbconvert_exporter": "python",
   "pygments_lexer": "ipython3",
   "version": "3.7.3"
  }
 },
 "nbformat": 4,
 "nbformat_minor": 2
}
