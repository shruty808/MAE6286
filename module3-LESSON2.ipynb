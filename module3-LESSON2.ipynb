{
 "cells": [
  {
   "cell_type": "code",
   "execution_count": 1,
   "metadata": {},
   "outputs": [],
   "source": [
    "import numpy\n",
    "from matplotlib import pyplot\n",
    "%matplotlib inline"
   ]
  },
  {
   "cell_type": "code",
   "execution_count": 2,
   "metadata": {},
   "outputs": [],
   "source": [
    "#set initial conditions:\n",
    "rhomax=10.0\n",
    "umax=1.0\n",
    "nx=81\n",
    "L=4\n",
    "nt=40\n",
    "dx=L/(nx-1)\n",
    "x=numpy.linspace(0,L,num=nx)\n"
   ]
  },
  {
   "cell_type": "code",
   "execution_count": 3,
   "metadata": {},
   "outputs": [],
   "source": [
    "def redlight(rhomax,x):\n",
    "    rho=rhomax*numpy.ones_like(x)\n",
    "    mask=numpy.where((x>=0)&(x<=3))\n",
    "    rho[mask]=0.5*rhomax\n",
    "    return rho"
   ]
  },
  {
   "cell_type": "code",
   "execution_count": 4,
   "metadata": {},
   "outputs": [],
   "source": [
    "rho0=redlight(rhomax,x)"
   ]
  },
  {
   "cell_type": "code",
   "execution_count": 5,
   "metadata": {},
   "outputs": [
    {
     "data": {
      "text/plain": [
       "[<matplotlib.lines.Line2D at 0x2517a848748>]"
      ]
     },
     "execution_count": 5,
     "metadata": {},
     "output_type": "execute_result"
    },
    {
     "data": {
      "image/png": "[encoded data removed]",
      "text/plain": [
       "<Figure size 288x288 with 1 Axes>"
      ]
     },
     "metadata": {
      "needs_background": "light"
     },
     "output_type": "display_data"
    }
   ],
   "source": [
    "pyplot.figure(figsize=(4,4))\n",
    "pyplot.xlabel('x')\n",
    "pyplot.ylabel('trafic density')\n",
    "pyplot.xlim(0,L)\n",
    "pyplot.ylim(0,11)\n",
    "pyplot.plot(x,rho0,color='r',linestyle='--',linewidth=2)"
   ]
  },
  {
   "cell_type": "code",
   "execution_count": 6,
   "metadata": {},
   "outputs": [],
   "source": [
    "def flux(rho,umax,rhomax):\n",
    "    F=umax*(1-(rho/rhomax))\n",
    "    return F"
   ]
  },
  {
   "cell_type": "code",
   "execution_count": 7,
   "metadata": {},
   "outputs": [],
   "source": [
    "def scheme(rho0,nt,dx,dt,umax,rhomax): \n",
    "    rho=rho0.copy()\n",
    "    for n in range (nt):\n",
    "        F=flux(rho,umax,rhomax)\n",
    "        rho[1:-1]=rho[1:-1]-(dt/(2*dx))*(F[2:]-F[:-2])\n",
    "    return rho"
   ]
  },
  {
   "cell_type": "code",
   "execution_count": 8,
   "metadata": {},
   "outputs": [
    {
     "data": {
      "text/plain": [
       "[<matplotlib.lines.Line2D at 0x2517a89d550>]"
      ]
     },
     "execution_count": 8,
     "metadata": {},
     "output_type": "execute_result"
    },
    {
     "data": {
      "image/png": "[encoded data removed]",
      "text/plain": [
       "<Figure size 288x288 with 1 Axes>"
      ]
     },
     "metadata": {
      "needs_background": "light"
     },
     "output_type": "display_data"
    }
   ],
   "source": [
    "sigma=1\n",
    "dt=sigma*(dx/umax)\n",
    "g=scheme(rho0,nt,dx,dt,umax,rhomax)\n",
    "pyplot.figure(figsize=(4,4))\n",
    "pyplot.xlabel('x')\n",
    "pyplot.ylabel('trafic density')\n",
    "pyplot.xlim(0,L)\n",
    "pyplot.ylim(0,11)\n",
    "pyplot.plot(x,rho0,color='r',linestyle='--',linewidth=2)\n",
    "pyplot.plot(x,g,color='b',linestyle='-',linewidth=2)"
   ]
  },
  {
   "cell_type": "code",
   "execution_count": 9,
   "metadata": {},
   "outputs": [],
   "source": [
    "#lax-friendrichs\n",
    "def lax(rho0,nt,dt,dx,umax,rhomax):\n",
    "    rho_l=rho0.copy()\n",
    "    for n in range(nt):\n",
    "        F=flux(rho_l,umax,rhomax)\n",
    "        rho_l[1:-1]=((rho_l[2:]+rho_l[:-2])/2)-(dt/2*dx)*(F[2:]-F[:-2])\n",
    "    return rho_l"
   ]
  },
  {
   "cell_type": "code",
   "execution_count": 10,
   "metadata": {},
   "outputs": [
    {
     "data": {
      "text/plain": [
       "[<matplotlib.lines.Line2D at 0x2517a91a668>]"
      ]
     },
     "execution_count": 10,
     "metadata": {},
     "output_type": "execute_result"
    },
    {
     "data": {
      "image/png": "[encoded data removed]",
      "text/plain": [
       "<Figure size 288x288 with 1 Axes>"
      ]
     },
     "metadata": {
      "needs_background": "light"
     },
     "output_type": "display_data"
    }
   ],
   "source": [
    "\n",
    "sigma_1=0.5\n",
    "dt_1=sigma_1*(dx/umax)\n",
    "h=lax(rho0,nt,dt_1,dx,umax,rhomax)\n",
    "pyplot.figure(figsize=(4,4))\n",
    "pyplot.xlabel('x')\n",
    "pyplot.ylabel('trafic density')\n",
    "pyplot.xlim(0,L)\n",
    "pyplot.ylim(0,11)\n",
    "pyplot.plot(x,rho0,color='r',linestyle='--',linewidth=2)\n",
    "pyplot.plot(x,h,color='b',linestyle='-',linewidth=2)\n"
   ]
  },
  {
   "cell_type": "code",
   "execution_count": 24,
   "metadata": {},
   "outputs": [],
   "source": [
    "# macromac scheme\n",
    "def macromack(rho0,nt,dt,dx,umax,rhomax):\n",
    "    rho2=rho0.copy()\n",
    "    for n in range(nt):\n",
    "        F=flux(rho2,umax,rhomax)\n",
    "        rhonew=rho2[:-2]-(dt/dx)*(F[2:]-F[:-2])\n",
    "        F1=flux(rhonew,umax,rhomax)\n",
    "        rho2[1:-1]=0.5*(rho2[1:-1]+rhonew[:]-(dt/dx)*(F[1:-1]-F[:-2]))\n",
    "    return rho2\n",
    "        "
   ]
  },
  {
   "cell_type": "code",
   "execution_count": 26,
   "metadata": {},
   "outputs": [
    {
     "data": {
      "text/plain": [
       "[<matplotlib.lines.Line2D at 0x2517aac0dd8>]"
      ]
     },
     "execution_count": 26,
     "metadata": {},
     "output_type": "execute_result"
    },
    {
     "data": {
      "image/png": "[encoded data removed]",
      "text/plain": [
       "<Figure size 288x288 with 1 Axes>"
      ]
     },
     "metadata": {
      "needs_background": "light"
     },
     "output_type": "display_data"
    }
   ],
   "source": [
    "sigma_1=1\n",
    "dt_1=sigma_1*(dx/umax)\n",
    "l=macromack(rho0,nt,dt_1,dx,umax,rhomax)\n",
    "pyplot.figure(figsize=(4,4))\n",
    "pyplot.xlabel('x')\n",
    "pyplot.ylabel('trafic density')\n",
    "pyplot.xlim(0,L)\n",
    "pyplot.ylim(0,11)\n",
    "pyplot.plot(x,rho0,color='r',linestyle='--',linewidth=2)\n",
    "pyplot.plot(x,l,color='b',linestyle='-',linewidth=2)\n"
   ]
  },
  {
   "cell_type": "code",
   "execution_count": null,
   "metadata": {},
   "outputs": [],
   "source": []
  }
 ],
 "metadata": {
  "kernelspec": {
   "display_name": "Python 3",
   "language": "python",
   "name": "python3"
  },
  "language_info": {
   "codemirror_mode": {
    "name": "ipython",
    "version": 3
   },
   "file_extension": ".py",
   "mimetype": "text/x-python",
   "name": "python",
   "nbconvert_exporter": "python",
   "pygments_lexer": "ipython3",
   "version": "3.7.3"
  }
 },
 "nbformat": 4,
 "nbformat_minor": 2
}
