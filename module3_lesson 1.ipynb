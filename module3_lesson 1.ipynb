{
 "cells": [
  {
   "cell_type": "code",
   "execution_count": 1,
   "metadata": {},
   "outputs": [],
   "source": [
    "import numpy\n",
    "from matplotlib import pyplot\n",
    "%matplotlib inline"
   ]
  },
  {
   "cell_type": "code",
   "execution_count": 2,
   "metadata": {},
   "outputs": [],
   "source": [
    "def greenlight(rhomax,x):\n",
    "    rho=numpy.zeros_like(x)\n",
    "    mask=numpy.where((x>0)&(x<2))\n",
    "    rho[mask]=2.5*x[mask]\n",
    "    return rho\n",
    "    "
   ]
  },
  {
   "cell_type": "code",
   "execution_count": 3,
   "metadata": {},
   "outputs": [],
   "source": [
    "#set parameters\n",
    "rhomax=10\n",
    "umax=1.1\n",
    "L=4.0\n",
    "nx=81\n",
    "dx=L/(nx-1)\n",
    "\n",
    "nt=40\n",
    "\n",
    "x=numpy.linspace(0.0,L,num=nx)\n",
    "\n",
    "rho0=greenlight(rhomax,x)"
   ]
  },
  {
   "cell_type": "code",
   "execution_count": 4,
   "metadata": {},
   "outputs": [
    {
     "data": {
      "image/png": "[encoded data removed]",
      "text/plain": [
       "<Figure size 288x288 with 1 Axes>"
      ]
     },
     "metadata": {
      "needs_background": "light"
     },
     "output_type": "display_data"
    }
   ],
   "source": [
    "#plot the initial condition:\n",
    "pyplot.figure(figsize=(4,4))\n",
    "pyplot.xlim(0,L)\n",
    "pyplot.ylim(-5,11)\n",
    "pyplot.xlabel('x')\n",
    "pyplot.ylabel('traffic density')\n",
    "pyplot.plot(x,rho0,color='r',linestyle='--',linewidth=2)\n",
    "pyplot.grid()"
   ]
  },
  {
   "cell_type": "code",
   "execution_count": 5,
   "metadata": {},
   "outputs": [],
   "source": [
    "def flux(rho,umax,rhomax):\n",
    "    F=rho*umax*(1-(rho/rhomax))\n",
    "    return F\n",
    "    "
   ]
  },
  {
   "cell_type": "code",
   "execution_count": 6,
   "metadata": {},
   "outputs": [],
   "source": [
    "def ftbs(rho,dt,dx,nt):\n",
    "    rho_hist=[rho0.copy()]\n",
    "\n",
    "    rho=rho0.copy()\n",
    "    for n in  range (nt):\n",
    "        F=flux(rho,umax,rhomax)\n",
    "        rho[1:]=rho[1:]-(dt/dx)*(F[1:]-F[:-1])\n",
    "        rho_hist.append(rho.copy())\n",
    "    return rho"
   ]
  },
  {
   "cell_type": "code",
   "execution_count": 7,
   "metadata": {},
   "outputs": [],
   "source": [
    "sigma=1\n",
    "dt=sigma*(dx/umax)\n",
    "rho_hist=ftbs(rho0,dt,dx,nt)\n"
   ]
  },
  {
   "cell_type": "code",
   "execution_count": 8,
   "metadata": {},
   "outputs": [
    {
     "data": {
      "image/png": "[encoded data removed]",
      "text/plain": [
       "<Figure size 288x288 with 1 Axes>"
      ]
     },
     "metadata": {
      "needs_background": "light"
     },
     "output_type": "display_data"
    }
   ],
   "source": [
    "#plot the initial condition:\n",
    "pyplot.figure(figsize=(4,4))\n",
    "pyplot.xlim(0,L)\n",
    "pyplot.ylim(-5,11)\n",
    "pyplot.xlabel('x')\n",
    "pyplot.ylabel('traffic density')\n",
    "pyplot.plot(x,rho0,color='r',linestyle='--',linewidth=2)\n",
    "pyplot.plot(x,rho_hist,color='b',linestyle='--',linewidth=2)\n",
    "\n",
    "pyplot.grid()"
   ]
  },
  {
   "cell_type": "code",
   "execution_count": null,
   "metadata": {},
   "outputs": [],
   "source": []
  }
 ],
 "metadata": {
  "kernelspec": {
   "display_name": "Python 3",
   "language": "python",
   "name": "python3"
  },
  "language_info": {
   "codemirror_mode": {
    "name": "ipython",
    "version": 3
   },
   "file_extension": ".py",
   "mimetype": "text/x-python",
   "name": "python",
   "nbconvert_exporter": "python",
   "pygments_lexer": "ipython3",
   "version": "3.7.3"
  }
 },
 "nbformat": 4,
 "nbformat_minor": 2
}
